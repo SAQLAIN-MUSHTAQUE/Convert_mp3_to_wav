{
 "cells": [
  {
   "cell_type": "code",
   "execution_count": 1,
   "id": "ea6e4ad8",
   "metadata": {
    "canvas": {
     "comments": [],
     "componentType": "CodeCell",
     "copiedOriginId": null,
     "diskcache": false,
     "headerColor": "none",
     "id": "25617c41-80d6-405d-a343-9a2ed7be28b3",
     "isComponent": true,
     "name": "importing libraries",
     "parents": []
    },
    "tags": []
   },
   "outputs": [],
   "source": [
    "# importingm all liabraries that we need\n",
    "\n",
    "import os\n",
    "from pydub import AudioSegment\n",
    "import glob"
   ]
  },
  {
   "cell_type": "code",
   "execution_count": 5,
   "id": "97f581a7",
   "metadata": {
    "canvas": {
     "comments": [],
     "componentType": "CodeCell",
     "copiedOriginId": null,
     "diskcache": false,
     "headerColor": "none",
     "id": "19890c19-073a-41ff-bed7-87058bef16ff",
     "isComponent": true,
     "name": "creating class",
     "parents": [
      {
       "id": "25617c41-80d6-405d-a343-9a2ed7be28b3",
       "name": "importing libraries"
      }
     ]
    },
    "tags": []
   },
   "outputs": [],
   "source": [
    "# creating class\n",
    "\n",
    "class con:\n",
    "    def convert (data_file):\n",
    "        \n",
    "        # importing data\n",
    "        path = (data_file)\n",
    "\n",
    "        #Change working directory\n",
    "        os.chdir(path)\n",
    "\n",
    "        # creatig list\n",
    "        audio_files = os.listdir()\n",
    "\n",
    "        for file in audio_files:\n",
    "            #spliting the file into the name and the extension\n",
    "            wav = os.path.splitext(file)[0]+ '.wav'\n",
    "            mp3_sound = AudioSegment.from_mp3(file)\n",
    "\n",
    "            #rename them using the old name + \".wav\"\n",
    "            mp3_sound.export(wav, format=\"wav\")\n",
    "        print (\"mp3 converted into wav\");\n",
    "\n",
    "    def cut (data_file):\n",
    "        \n",
    "        # importing data\n",
    "        path = (data_file)\n",
    "\n",
    "        #Change working directory\n",
    "        os.chdir(path)\n",
    "\n",
    "        # creatig list\n",
    "        audio_files = os.listdir()\n",
    "\n",
    "        for file in audio_files:\n",
    "            #spliting the file into the name and the extension\n",
    "            wav = os.path.splitext(file)[0]+ '.wav'\n",
    "            mp3_sound = AudioSegment.from_mp3(file)\n",
    "\n",
    "            #rename them using the old name + \".wav\"\n",
    "            mp3_sound.export(wav, format=\"wav\")\n",
    "            os.remove(file)\n",
    "        print (\"mp3 converted and removed mp3 into wav\");\n",
    "        "
   ]
  },
  {
   "cell_type": "code",
   "execution_count": null,
   "id": "e06564e5",
   "metadata": {
    "canvas": {
     "comments": [],
     "componentType": "CodeCell",
     "copiedOriginId": null,
     "diskcache": false,
     "headerColor": "none",
     "id": "a355fbfa-0869-475c-b9df-be533d27d69f",
     "isComponent": false,
     "name": "",
     "parents": []
    },
    "tags": []
   },
   "outputs": [],
   "source": []
  },
  {
   "cell_type": "code",
   "execution_count": null,
   "id": "f4fcfa6f",
   "metadata": {
    "canvas": {
     "comments": [],
     "componentType": "CodeCell",
     "copiedOriginId": null,
     "diskcache": false,
     "headerColor": "none",
     "id": "b3b34d10-ceb8-4164-a495-9942c3db8d75",
     "isComponent": false,
     "name": "",
     "parents": []
    }
   },
   "outputs": [],
   "source": []
  }
 ],
 "metadata": {
  "canvas": {
   "colorPalette": [
    "inherit",
    "inherit",
    "inherit",
    "inherit",
    "inherit",
    "inherit",
    "inherit",
    "inherit",
    "inherit",
    "inherit"
   ],
   "parameters": [],
   "version": "1.0"
  },
  "kernelspec": {
   "display_name": "Python 2",
   "language": "python",
   "name": "python2"
  },
  "language_info": {
   "codemirror_mode": {
    "name": "ipython",
    "version": 3
   },
   "file_extension": ".py",
   "mimetype": "text/x-python",
   "name": "python",
   "nbconvert_exporter": "python",
   "pygments_lexer": "ipython3",
   "version": "3.8.8"
  }
 },
 "nbformat": 4,
 "nbformat_minor": 5
}
